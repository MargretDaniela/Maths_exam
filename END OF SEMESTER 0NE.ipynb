{
 "cells": [
  {
   "cell_type": "markdown",
   "id": "f94299bf-f6da-433f-9c78-48ff7c5afc71",
   "metadata": {},
   "source": [
    "### No. 5"
   ]
  },
  {
   "cell_type": "code",
   "execution_count": 1,
   "id": "f623345b-b23f-43e3-97e5-f1340f9f9a6f",
   "metadata": {},
   "outputs": [],
   "source": [
    "import numpy as np"
   ]
  },
  {
   "cell_type": "code",
   "execution_count": 2,
   "id": "bd1eda34-d163-4640-85f1-18b78745589c",
   "metadata": {},
   "outputs": [
    {
     "name": "stdout",
     "output_type": "stream",
     "text": [
      "[[1.  0.2 0.5]\n",
      " [0.2 1.  0.8]\n",
      " [0.5 0.8 1. ]]\n"
     ]
    }
   ],
   "source": [
    "matrix = np.array([[1,0.2,0.5],[0.2,1,0.8],[0.5,0.8,1]])\n",
    "print (matrix) "
   ]
  },
  {
   "cell_type": "code",
   "execution_count": 4,
   "id": "530a8ac7-2c12-498d-86b2-756395ebbf27",
   "metadata": {},
   "outputs": [
    {
     "name": "stdout",
     "output_type": "stream",
     "text": [
      "[[1.  0.2 0.5]\n",
      " [0.2 1.  0.8]\n",
      " [0.5 0.8 1. ]]\n"
     ]
    }
   ],
   "source": [
    "matrix = np.array([[1,0.2,0.5],[0.2,1,0.8],[0.5,0.8,1]])\n",
    "matrix_t= np.transpose(matrix)\n",
    "print(matrix_t) #part (i)"
   ]
  },
  {
   "cell_type": "code",
   "execution_count": 5,
   "id": "9928a284-e8f6-4262-951c-57f05ec149a8",
   "metadata": {},
   "outputs": [
    {
     "name": "stdout",
     "output_type": "stream",
     "text": [
      "0.2299999999999999\n"
     ]
    }
   ],
   "source": [
    "matrix = np.array([[1,0.2,0.5],[0.2,1,0.8],[0.5,0.8,1]])\n",
    "det = np.linalg.det(matrix)\n",
    "print (det) #part (ii)"
   ]
  },
  {
   "cell_type": "code",
   "execution_count": 6,
   "id": "a86a9b10-9255-40bb-9cab-8719ae40b919",
   "metadata": {},
   "outputs": [
    {
     "name": "stdout",
     "output_type": "stream",
     "text": [
      "EigResult(eigenvalues=array([2.04100779, 0.82188052, 0.13711169]), eigenvectors=array([[-0.43721717, -0.85359707, -0.28321933],\n",
      "       [-0.59931898,  0.51133314, -0.61591816],\n",
      "       [-0.67056536,  0.09955128,  0.73514055]]))\n"
     ]
    }
   ],
   "source": [
    "matrix = np.array([[1,0.2,0.5],[0.2,1,0.8],[0.5,0.8,1]])\n",
    "decompose = np.linalg.eig(matrix)\n",
    "print(decompose)# part (iii)"
   ]
  },
  {
   "cell_type": "code",
   "execution_count": 7,
   "id": "3025d52d-b54c-4322-a5f1-1981653c1018",
   "metadata": {},
   "outputs": [
    {
     "name": "stdout",
     "output_type": "stream",
     "text": [
      "SVDResult(U=array([[-0.43721717,  0.85359707, -0.28321933],\n",
      "       [-0.59931898, -0.51133314, -0.61591816],\n",
      "       [-0.67056536, -0.09955128,  0.73514055]]), S=array([2.04100779, 0.82188052, 0.13711169]), Vh=array([[-0.43721717, -0.59931898, -0.67056536],\n",
      "       [ 0.85359707, -0.51133314, -0.09955128],\n",
      "       [-0.28321933, -0.61591816,  0.73514055]]))\n"
     ]
    }
   ],
   "source": [
    "matrix = np.array([[1,0.2,0.5],[0.2,1,0.8],[0.5,0.8,1]])\n",
    "decompose = np.linalg.svd(matrix)\n",
    "print(decompose)#part (iii)"
   ]
  },
  {
   "cell_type": "code",
   "execution_count": null,
   "id": "874b1692-0af6-4176-b904-fc4f3b2ef1e7",
   "metadata": {},
   "outputs": [],
   "source": []
  },
  {
   "cell_type": "markdown",
   "id": "3229922c-f364-4f3f-ae13-2bceb673830e",
   "metadata": {},
   "source": [
    "### No. 6"
   ]
  },
  {
   "cell_type": "code",
   "execution_count": 9,
   "id": "528ac944-1b02-45b1-94f2-6b79fdaca786",
   "metadata": {},
   "outputs": [],
   "source": [
    "from numpy import random"
   ]
  },
  {
   "cell_type": "code",
   "execution_count": 12,
   "id": "ab875ebf-50f6-4758-81dc-74099c00e827",
   "metadata": {},
   "outputs": [
    {
     "name": "stdout",
     "output_type": "stream",
     "text": [
      "[1 1 1 0 2 0 3 2 1 2 2 0 1 1 0 1 1 1 1 1 0 0 0 0 2 3 0 0 0 0 2 0 0 1 1 0 0\n",
      " 0 0 2 1 0 1 0 1 4 1 1 2 2 0 0 2 1 0 2 3 2 0 1 1 3 0 2 3 0 1 2 2 1 2 2 2 1\n",
      " 1 2 2 0 1 1 0 2 0 2 0 0 1 0 3 1 2 0 1 1 0 1 0 2 0 0 1 2 0 0 1 2 3 2 0 1 0\n",
      " 1 2 2 0 2 0 2 0 1 0 3 2 2 0 1 2 2 1 2 1 1 1 2 1 0 1 3 1 0 0 0 0 2 3 2 1 1\n",
      " 0 0 1 1 2 1 2 1 2 2 1 0 1 2 3 0 1 3 0 2 0 1 0 0 0 2 0 0 1 0 1 0 0 0 1 3 2\n",
      " 1 1 0 0 1 3 0 1 1 0 0 0 1 1 0 0 2 0 0 1 0 1 0 0 0 0 3 0 2 1 3 1 0 1 0 1 2\n",
      " 2 0 1 0 0 2 3 0 0 1 4 0 2 3 1 2 2 1 1 1 2 1 1 1 0 1 0 0 0 2 1 1 1 1 0 0 2\n",
      " 0 2 3 1 2 1 3 1 1 1 0 0 1 0 1 1 0 3 1 1 0 0 0 3 1 1 0 2 0 0 1 0 4 0 0 0 2\n",
      " 0 0 0 1 2 2 1 2 1 1 0 2 0 3 1 0 1 1 1 1 0 0 0 0 0 2 2 2 0 1 1 1 1 0 1 1 1\n",
      " 0 1 1 0 1 4 2 1 0 4 0 2 1 0 1 3 0 2 0 1 2 1 2 0 1 0 2 1 1 5 0 2 1 0 3 1 1\n",
      " 1 1 0 2 1 1 2 0 3 1 0 2 0 2 2 2 4 1 1 0 0 3 3 2 1 1 0 2 0 2 1 3 4 0 5 1 2\n",
      " 0 0 2 0 1 1 0 1 2 0 2 2 1 2 3 0 3 1 0 1 1 0 1 2 0 1 0 0 2 0 1 1 0 0 1 1 1\n",
      " 0 1 2 1 0 0 2 1 0 0 0 5 3 1 3 0 2 1 1 1 1 0 1 0 0 0 1 2 1 1 0 1 0 0 3 1 0\n",
      " 2 1 1 0 0 0 1 0 2 3 1 0 1 4 1 0 1 2 0 1 1 0 2 3 1 0 2 0 0 2 1 3 2 1 1 2 1\n",
      " 0 1 1 2 1 0 2 2 1 1 0 1 1 1 1 3 0 1 0 0 0 0 3 2 0 1 0 0 1 1 2 1 1 1 1 1 3\n",
      " 1 1 1 1 2 3 4 3 0 0 1 1 1 2 2 0 1 1 2 0 1 2 0 3 0 0 1 2 1 2 2 1 3 0 1 0 3\n",
      " 1 0 0 0 1 0 1 0 1 2 0 0 1 0 2 1 2 1 0 3 1 1 1 2 1 1 1 1 3 0 4 0 0 0 0 1 1\n",
      " 1 0 0 0 3 0 1 2 1 3 4 0 1 0 1 0 2 0 0 0 1 1 2 1 2 0 1 0 0 2 1 2 0 0 1 2 1\n",
      " 0 1 2 1 3 1 0 2 1 0 1 0 2 0 1 1 0 2 2 1 1 1 2 0 1 3 1 0 0 2 2 3 0 1 0 0 1\n",
      " 1 2 0 0 1 0 0 0 1 2 0 1 0 0 1 1 1 2 0 1 0 1 1 2 2 2 1 2 1 1 0 1 0 1 2 1 0\n",
      " 1 0 0 0 0 1 4 0 2 0 3 0 3 2 2 1 0 0 0 1 1 1 0 1 1 3 2 2 0 2 2 1 0 0 1 1 0\n",
      " 0 1 0 3 0 2 2 1 1 0 0 2 1 1 0 0 0 1 1 1 2 1 1 0 0 2 0 0 1 3 1 2 0 1 0 4 2\n",
      " 1 3 1 0 0 1 0 1 1 2 1 0 2 0 1 1 1 0 4 0 2 0 0 1 1 1 0 2 1 2 1 1 3 2 1 2 1\n",
      " 0 0 1 1 1 1 1 0 2 0 0 0 1 1 1 0 2 0 1 1 1 3 1 2 0 0 1 1 2 1 1 0 3 2 1 2 1\n",
      " 1 1 3 1 1 0 0 1 3 2 2 4 1 3 3 1 1 0 3 1 0 1 0 2 1 1 0 1 2 0 0 0 0 1 1 2 2\n",
      " 0 0 0 1 1 1 0 1 1 0 2 2 1 0 2 0 0 3 1 1 0 3 1 1 1 1 2 0 0 0 0 0 0 1 1 0 0\n",
      " 0 2 0 3 2 1 0 2 1 1 1 2 1 1 1 1 0 1 1 0 1 1 0 0 1 1 1 3 3 3 1 0 2 0 0 1 3\n",
      " 0]\n"
     ]
    }
   ],
   "source": [
    "x = random.poisson(size = 1000)\n",
    "print(x)"
   ]
  },
  {
   "cell_type": "code",
   "execution_count": 16,
   "id": "92535183-b207-494c-8bab-1643dd7681a6",
   "metadata": {},
   "outputs": [
    {
     "ename": "TypeError",
     "evalue": "poisson() got an unexpected keyword argument 'loc'",
     "output_type": "error",
     "traceback": [
      "\u001b[1;31m---------------------------------------------------------------------------\u001b[0m",
      "\u001b[1;31mTypeError\u001b[0m                                 Traceback (most recent call last)",
      "Cell \u001b[1;32mIn[16], line 1\u001b[0m\n\u001b[1;32m----> 1\u001b[0m x_mv \u001b[38;5;241m=\u001b[39m \u001b[43mrandom\u001b[49m\u001b[38;5;241;43m.\u001b[39;49m\u001b[43mpoisson\u001b[49m\u001b[43m(\u001b[49m\u001b[43mloc\u001b[49m\u001b[38;5;241;43m=\u001b[39;49m\u001b[43m \u001b[49m\u001b[38;5;241;43m1\u001b[39;49m\u001b[43m,\u001b[49m\u001b[43m \u001b[49m\u001b[43mscale\u001b[49m\u001b[38;5;241;43m=\u001b[39;49m\u001b[43m \u001b[49m\u001b[38;5;241;43m2\u001b[39;49m\u001b[43m,\u001b[49m\u001b[43m \u001b[49m\u001b[43msize\u001b[49m\u001b[38;5;241;43m=\u001b[39;49m\u001b[43m(\u001b[49m\u001b[38;5;241;43m1000\u001b[39;49m\u001b[43m,\u001b[49m\u001b[43m \u001b[49m\u001b[38;5;241;43m1\u001b[39;49m\u001b[43m)\u001b[49m\u001b[43m)\u001b[49m\n\u001b[0;32m      2\u001b[0m \u001b[38;5;28mprint\u001b[39m(x_mv)\n",
      "File \u001b[1;32mnumpy\\\\random\\\\mtrand.pyx:3622\u001b[0m, in \u001b[0;36mnumpy.random.mtrand.RandomState.poisson\u001b[1;34m()\u001b[0m\n",
      "\u001b[1;31mTypeError\u001b[0m: poisson() got an unexpected keyword argument 'loc'"
     ]
    }
   ],
   "source": [
    "x_mv = random.poisson(loc= 1, scale= 2, size=(1000, 1))\n",
    "print(x_mv)"
   ]
  },
  {
   "cell_type": "code",
   "execution_count": 19,
   "id": "0be743a7-5bf2-45dc-b4cf-a658a70b4313",
   "metadata": {},
   "outputs": [],
   "source": [
    "import seaborn as sns"
   ]
  },
  {
   "cell_type": "code",
   "execution_count": 21,
   "id": "8294b09e-43d8-41a3-be8d-95340f76daf0",
   "metadata": {},
   "outputs": [],
   "source": [
    "import matplotlib.pyplot as plt"
   ]
  },
  {
   "cell_type": "code",
   "execution_count": 23,
   "id": "b58ab0f2-6936-4ec5-8f6f-a49dd028dd1e",
   "metadata": {},
   "outputs": [
    {
     "data": {
      "text/plain": [
       "<function matplotlib.pyplot.show(close=None, block=None)>"
      ]
     },
     "execution_count": 23,
     "metadata": {},
     "output_type": "execute_result"
    },
    {
     "data": {
      "image/png": "[encoded data removed]",
      "text/plain": [
       "<Figure size 640x480 with 1 Axes>"
      ]
     },
     "metadata": {},
     "output_type": "display_data"
    }
   ],
   "source": [
    "graph = random.poisson(size =1000)\n",
    "sns.kdeplot(graph, bw_adjust = 0.5)\n",
    "plt.show "
   ]
  },
  {
   "cell_type": "code",
   "execution_count": 28,
   "id": "b2c124e2-d66a-4122-bcb6-2159708acc81",
   "metadata": {},
   "outputs": [
    {
     "data": {
      "image/png": "[encoded data removed]",
      "text/plain": [
       "<Figure size 640x480 with 1 Axes>"
      ]
     },
     "metadata": {},
     "output_type": "display_data"
    }
   ],
   "source": [
    "poisson_graph = random.poisson (size = 1000)\n",
    "sns.histplot(poisson_graph, kde= False, color='blueviolet')\n",
    "plt.xlabel('x-axis')\n",
    "plt.ylabel('y-axis')\n",
    "plt.title(\"A graph to show the random values of poisson\")\n",
    "plt.show()"
   ]
  },
  {
   "cell_type": "code",
   "execution_count": null,
   "id": "c37c81a4-cf52-410b-9295-2559a912f646",
   "metadata": {},
   "outputs": [],
   "source": []
  }
 ],
 "metadata": {
  "kernelspec": {
   "display_name": "Python 3 (ipykernel)",
   "language": "python",
   "name": "python3"
  },
  "language_info": {
   "codemirror_mode": {
    "name": "ipython",
    "version": 3
   },
   "file_extension": ".py",
   "mimetype": "text/x-python",
   "name": "python",
   "nbconvert_exporter": "python",
   "pygments_lexer": "ipython3",
   "version": "3.12.6"
  }
 },
 "nbformat": 4,
 "nbformat_minor": 5
}
